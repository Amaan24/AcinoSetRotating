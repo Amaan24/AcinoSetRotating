{
 "cells": [
  {
   "cell_type": "markdown",
   "metadata": {},
   "source": [
    "# Triangulation"
   ]
  },
  {
   "cell_type": "code",
   "execution_count": 25,
   "metadata": {},
   "outputs": [
    {
     "name": "stdout",
     "output_type": "stream",
     "text": [
      "The autoreload extension is already loaded. To reload it, use:\n",
      "  %reload_ext autoreload\n"
     ]
    }
   ],
   "source": [
    "import os\n",
    "import pickle\n",
    "import numpy as np\n",
    "import matplotlib.pyplot as plt\n",
    "from glob import glob\n",
    "from time import time\n",
    "from calib import misc, utils, app\n",
    "from calib.calib import triangulate_points_fisheye, get_pairwise_3d_points_from_df\n",
    "\n",
    "plt.style.use(os.path.join('..', 'configs', 'mplstyle.yaml'))\n",
    "\n",
    "%load_ext autoreload\n",
    "%autoreload 2\n",
    "\n",
    "ROOT_DATA_DIR = os.path.join(\"..\", \"data\")"
   ]
  },
  {
   "cell_type": "markdown",
   "metadata": {},
   "source": [
    "# Reconstruction Params\n",
    "Define the params in the cell below. Thereafter, run all cells"
   ]
  },
  {
   "cell_type": "code",
   "execution_count": 22,
   "metadata": {},
   "outputs": [],
   "source": [
    "DATA_DIR = os.path.join(ROOT_DATA_DIR, \"11Oct2022S\")\n",
    "\n",
    "start_frame = 1\n",
    "end_frame = 50\n",
    "\n",
    "# DLC p_cutoff - any points with likelihood < dlc_thresh are not trusted in optimisation\n",
    "dlc_thresh = 0.5 # change this only if the optimisation result is unsatisfactory"
   ]
  },
  {
   "cell_type": "markdown",
   "metadata": {},
   "source": [
    "# Reconstruction"
   ]
  },
  {
   "cell_type": "code",
   "execution_count": 27,
   "metadata": {},
   "outputs": [
    {
     "name": "stdout",
     "output_type": "stream",
     "text": [
      "Found 750 pairwise points between camera 0 and 1\n"
     ]
    }
   ],
   "source": [
    "assert os.path.exists(DATA_DIR)\n",
    "OUT_DIR = os.path.join(DATA_DIR, 'tri')\n",
    "#DLC_DIR = os.path.join(DATA_DIR, 'dlc')\n",
    "#assert os.path.exists(DLC_DIR)\n",
    "os.makedirs(OUT_DIR, exist_ok=True)\n",
    "\n",
    "# load video info\n",
    "#res, fps, tot_frames, _ = app.get_vid_info(DATA_DIR) # path to original videos\n",
    "#assert end_frame <= tot_frames, f'end_frame must be less than or equal to {tot_frames}'\n",
    "\n",
    "#start_frame -= 1 # 0 based indexing\n",
    "assert start_frame >= 0\n",
    "N = end_frame-start_frame\n",
    "\n",
    "#k_arr, d_arr, r_arr, t_arr, cam_res, n_cams, scene_fpath = utils.find_scene_file(DATA_DIR, verbose=False)\n",
    "k_arr, d_arr, r_arr, t_arr, _ = utils.load_scene('C:\\\\Users\\\\user-pc\\\\Desktop\\\\AcinoSetRotating\\\\data\\\\11Oct2022S\\\\extrinsic_calib\\\\2_cam_scene_sba.json')\n",
    "\n",
    "dlc_points_fpaths = sorted(glob(os.path.join(DATA_DIR, '*.h5')))\n",
    "\n",
    "#assert n_cams == len(dlc_points_fpaths)\n",
    "    \n",
    "# Load Measurement Data (pixels, likelihood)\n",
    "points_2d_df = utils.create_dlc_points_2d_file(dlc_points_fpaths)\n",
    "points_2d_df = points_2d_df[points_2d_df[\"frame\"].between(start_frame, end_frame-1)]\n",
    "points_2d_df = points_2d_df[points_2d_df['likelihood']>dlc_thresh] # ignore points with low likelihood\n",
    "\n",
    "assert len(k_arr) == points_2d_df['camera'].nunique()\n",
    "\n",
    "points_3d_df = get_pairwise_3d_points_from_df(\n",
    "    points_2d_df,\n",
    "    k_arr, d_arr.reshape((-1,4)), r_arr, t_arr,\n",
    "    triangulate_points_fisheye\n",
    ")\n",
    "\n",
    "points_3d_df['point_index'] = points_3d_df.index"
   ]
  },
  {
   "cell_type": "markdown",
   "metadata": {},
   "source": [
    "# Save triangulation results"
   ]
  },
  {
   "cell_type": "code",
   "execution_count": null,
   "metadata": {},
   "outputs": [],
   "source": [
    "markers = misc.get_markers()\n",
    "\n",
    "positions = np.full((N, len(markers), 3), np.nan)\n",
    "for i, marker in enumerate(markers):\n",
    "    marker_pts = points_3d_df[points_3d_df[\"marker\"]==marker][[\"frame\", \"x\", \"y\", \"z\"]].values\n",
    "    for frame, *pt_3d in marker_pts:\n",
    "        positions[int(frame)-start_frame, i] = pt_3d\n",
    "\n",
    "#app.save_tri(positions, OUT_DIR, scene_fpath, start_frame, dlc_thresh)\n",
    "app.save_tri(positions, OUT_DIR, 'C:\\\\Users\\\\user-pc\\\\Desktop\\\\AcinoSetRotating\\\\data\\\\11Oct2022S\\\\extrinsic_calib\\\\2_cam_scene_sba.json', start_frame, dlc_thresh)\n",
    "\n"
   ]
  },
  {
   "cell_type": "markdown",
   "metadata": {},
   "source": [
    "# Plot the cheetah!"
   ]
  },
  {
   "cell_type": "code",
   "execution_count": null,
   "metadata": {},
   "outputs": [],
   "source": [
    "data_fpath = os.path.join(OUT_DIR, 'tri.pickle')\n",
    "app.plot_cheetah_reconstruction(data_fpath, dark_mode=True)"
   ]
  },
  {
   "cell_type": "code",
   "execution_count": null,
   "metadata": {},
   "outputs": [],
   "source": []
  }
 ],
 "metadata": {
  "kernelspec": {
   "display_name": "Python 3.7.9 ('acinoset')",
   "language": "python",
   "name": "python3"
  },
  "language_info": {
   "codemirror_mode": {
    "name": "ipython",
    "version": 3
   },
   "file_extension": ".py",
   "mimetype": "text/x-python",
   "name": "python",
   "nbconvert_exporter": "python",
   "pygments_lexer": "ipython3",
   "version": "3.7.9"
  },
  "vscode": {
   "interpreter": {
    "hash": "b3d6b7b562e8a412f8c7516e7bd9296f496623ea52fe6788f4446e963adab562"
   }
  }
 },
 "nbformat": 4,
 "nbformat_minor": 4
}
